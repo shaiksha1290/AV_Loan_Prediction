{
 "cells": [
  {
   "cell_type": "code",
   "execution_count": 1,
   "metadata": {
    "collapsed": true
   },
   "outputs": [],
   "source": [
    "import pandas as pd\n",
    "import numpy as np\n",
    "import matplotlib.pyplot as plt"
   ]
  },
  {
   "cell_type": "code",
   "execution_count": 5,
   "metadata": {
    "collapsed": true
   },
   "outputs": [],
   "source": [
    "import pandas as pd\n",
    "from sklearn.preprocessing import LabelEncoder\n",
    "from sklearn.pipeline import Pipeline\n",
    "\n",
    "class MultiColumnLabelEncoder:\n",
    "    def __init__(self,columns = None):\n",
    "        self.columns = columns # array of column names to encode\n",
    "\n",
    "    def fit(self,X,y=None):\n",
    "        return self # not relevant here\n",
    "\n",
    "    def transform(self,X):\n",
    "        '''\n",
    "        Transforms columns of X specified in self.columns using\n",
    "        LabelEncoder(). If no columns specified, transforms all\n",
    "        columns in X.\n",
    "        '''\n",
    "        output = X.copy()\n",
    "        if self.columns is not None:\n",
    "            for col in self.columns:\n",
    "                if output[col].dtypes == 'object' :\n",
    "                    output[col] = LabelEncoder().fit_transform(output[col])\n",
    "        else:\n",
    "            for colname,col in output.iteritems():\n",
    "                if output[colname].dtypes == 'object' :\n",
    "                    output[colname] = LabelEncoder().fit_transform(col)\n",
    "        return output\n",
    "\n",
    "    def fit_transform(self,X,y=None):\n",
    "        return self.fit(X,y).transform(X)"
   ]
  },
  {
   "cell_type": "code",
   "execution_count": 66,
   "metadata": {
    "collapsed": true
   },
   "outputs": [],
   "source": [
    "#read the data\n",
    "tdata = pd.read_csv(r\"E:\\AV\\train_u6lujuX.csv\")\n",
    "test = pd.read_csv(r\"E:\\AV\\test_Y3wMUE5.csv\")\n",
    "\n",
    "\n",
    "#handling missing data for trainining\n",
    "tdata.Gender.fillna(\"Unknown\",inplace=True)\n",
    "tdata.Married.fillna(\"Unknown\",inplace=True)\n",
    "tdata.Dependents.fillna('Unknown',inplace=True)\n",
    "tdata.Self_Employed.fillna('No',inplace=True)\n",
    "tdata.LoanAmount.fillna(np.mean(tdata.LoanAmount),inplace=True)\n",
    "tdata.Loan_Amount_Term.fillna(np.mean(tdata.Loan_Amount_Term),inplace=True)\n",
    "tdata.Credit_History.fillna(1,inplace=True)\n",
    "tdata['Final_Inc'] = tdata.ApplicantIncome + tdata.CoapplicantIncome\n",
    "tdata['Ratio'] = tdata.LoanAmount / tdata.Final_Inc\n",
    "\n",
    "#handling missing data for test\n",
    "test.Gender.fillna(\"Unknown\",inplace=True)\n",
    "test.Married.fillna(\"Unknown\",inplace=True)\n",
    "test.Dependents.fillna('Unknown',inplace=True)\n",
    "test.Self_Employed.fillna('No',inplace=True)\n",
    "test.LoanAmount.fillna(np.mean(tdata.LoanAmount),inplace=True)\n",
    "test.Loan_Amount_Term.fillna(np.mean(tdata.Loan_Amount_Term),inplace=True)\n",
    "test.Credit_History.fillna(1,inplace=True)\n",
    "test['Final_Inc'] = test.ApplicantIncome + test.CoapplicantIncome\n",
    "test['Ratio'] = test.LoanAmount / test.Final_Inc\n",
    "\n",
    "\n",
    "#Binning the continiuous variables\n",
    "#tdata['LoanAmount'] = pd.cut(tdata['LoanAmount'],10,labels = ['1','2','3','4','5','6','7','8','9','10'])\n",
    "#tdata['ApplicantIncome'] = pd.cut(tdata['ApplicantIncome'],10,labels = ['1','2','3','4','5','6','7','8','9','10'])\n",
    "#tdata['CoapplicantIncome'] = pd.cut(tdata['CoapplicantIncome'],10,labels = ['1','2','3','4','5','6','7','8','9','10'])\n",
    "#tdata['Loan_Amount_Term'] = pd.cut(tdata['Loan_Amount_Term'],10,labels = ['1','2','3','4','5','6','7','8','9','10'])\n",
    "\n",
    "#Label encoding\n",
    "tdata_fin = MultiColumnLabelEncoder(columns = ['Gender','Married','Dependents','Education','Self_Employed','Property_Area','Credit_History','Loan_Status']).fit_transform(tdata)\n",
    "\n",
    "test_fin = MultiColumnLabelEncoder(columns = ['Gender','Married','Dependents','Education','Self_Employed','Property_Area','Credit_History']).fit_transform(test)"
   ]
  },
  {
   "cell_type": "code",
   "execution_count": 67,
   "metadata": {
    "collapsed": true
   },
   "outputs": [],
   "source": [
    "#Spliting data and target\n",
    "x_train_value = tdata_fin.drop(['Loan_ID','Loan_Status'],axis = 1).as_matrix()\n",
    "x_train_target = tdata_fin['Loan_Status'].as_matrix()\n",
    "\n",
    "\n",
    "x_test_value = test_fin.drop(['Loan_ID'],axis = 1).as_matrix()"
   ]
  },
  {
   "cell_type": "code",
   "execution_count": 55,
   "metadata": {
    "collapsed": false,
    "scrolled": true
   },
   "outputs": [
    {
     "name": "stdout",
     "output_type": "stream",
     "text": [
      "500\n",
      "0.796539162113\n",
      "500\n",
      "0.791673172001\n",
      "550\n",
      "0.794899817851\n",
      "550\n",
      "0.798178506375\n",
      "600\n",
      "0.796539162113\n",
      "600\n",
      "0.793312516263\n",
      "650\n",
      "0.793260473588\n",
      "650\n",
      "0.796591204788\n",
      "700\n",
      "0.796539162113\n",
      "700\n",
      "0.79823054905\n",
      "750\n",
      "0.791621129326\n",
      "750\n",
      "0.794899817851\n",
      "800\n",
      "0.794899817851\n",
      "800\n",
      "0.793312516263\n",
      "850\n",
      "0.799817850638\n",
      "850\n",
      "0.796591204788\n",
      "900\n",
      "0.796539162113\n",
      "900\n",
      "0.8014571949\n",
      "950\n",
      "0.794899817851\n",
      "950\n",
      "0.794951860526\n"
     ]
    }
   ],
   "source": [
    "from sklearn.ensemble import RandomForestClassifier\n",
    "from sklearn.cross_validation import KFold,cross_val_score\n",
    "\n",
    "kf = KFold(n = x_train_value.shape[0],n_folds = 10)\n",
    "\n",
    "for k in xrange(500,1000,50) :\n",
    "    for i in [3,4] :\n",
    "        forest = RandomForestClassifier(n_estimators = k,criterion ='entropy',max_features = i)\n",
    "        print k\n",
    "        print cross_val_score(forest,x_train_value,x_train_target,cv=10).mean()\n",
    "    "
   ]
  },
  {
   "cell_type": "code",
   "execution_count": 68,
   "metadata": {
    "collapsed": false
   },
   "outputs": [],
   "source": [
    "forest = RandomForestClassifier(n_estimators = 900,criterion ='entropy',max_features = 4)\n",
    "forest_res = forest.fit(x_train_value,x_train_target)\n",
    "\n",
    "predicted = forest_res.predict(x_test_value)"
   ]
  },
  {
   "cell_type": "code",
   "execution_count": 69,
   "metadata": {
    "collapsed": false
   },
   "outputs": [],
   "source": [
    "res = []\n",
    "for x in predicted :\n",
    "    if x == 1 :\n",
    "        res.append(\"Y\")\n",
    "    else:\n",
    "        res.append(\"N\")\n",
    "\n",
    "submission = pd.DataFrame({ 'id': test['Loan_ID'],\n",
    "                            'status': res })\n",
    "\n",
    "submission.to_csv(r\"E:\\AV\\ans__1.csv\")"
   ]
  },
  {
   "cell_type": "code",
   "execution_count": null,
   "metadata": {
    "collapsed": true
   },
   "outputs": [],
   "source": []
  }
 ],
 "metadata": {
  "kernelspec": {
   "display_name": "Python 2",
   "language": "python",
   "name": "python2"
  },
  "language_info": {
   "codemirror_mode": {
    "name": "ipython",
    "version": 2
   },
   "file_extension": ".py",
   "mimetype": "text/x-python",
   "name": "python",
   "nbconvert_exporter": "python",
   "pygments_lexer": "ipython2",
   "version": "2.7.11"
  }
 },
 "nbformat": 4,
 "nbformat_minor": 0
}
